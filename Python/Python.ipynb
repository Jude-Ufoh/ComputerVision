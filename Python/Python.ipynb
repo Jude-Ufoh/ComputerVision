{
  "nbformat": 4,
  "nbformat_minor": 0,
  "metadata": {
    "colab": {
      "provenance": [],
      "authorship_tag": "ABX9TyO/ohhxR1m4m9NRYtCGfgw8",
      "include_colab_link": true
    },
    "kernelspec": {
      "name": "python3",
      "display_name": "Python 3"
    },
    "language_info": {
      "name": "python"
    }
  },
  "cells": [
    {
      "cell_type": "markdown",
      "metadata": {
        "id": "view-in-github",
        "colab_type": "text"
      },
      "source": [
        "<a href=\"https://colab.research.google.com/github/Jude-Ufoh/ComputerVision/blob/main/Python/Python.ipynb\" target=\"_parent\"><img src=\"https://colab.research.google.com/assets/colab-badge.svg\" alt=\"Open In Colab\"/></a>"
      ]
    },
    {
      "cell_type": "code",
      "source": [],
      "metadata": {
        "id": "JsDjPdLjrtXB"
      },
      "execution_count": null,
      "outputs": []
    },
    {
      "cell_type": "code",
      "source": [],
      "metadata": {
        "id": "rUyb0Gs0OzNP"
      },
      "execution_count": null,
      "outputs": []
    },
    {
      "cell_type": "markdown",
      "source": [
        "### OBJECT ORIENTED PROGRAMMING"
      ],
      "metadata": {
        "id": "h4-h01Y-gf3z"
      }
    },
    {
      "cell_type": "markdown",
      "source": [
        "*Question 1*. Write a class called Investment with fields called principal and interest. The construc\u0002tor should set the values of those fields. There should be a method called value_after that\n",
        "returns the value of the investment after n years. The formula for this is p(1 + i)\n",
        "n\n",
        ", where p is\n",
        "the principal, and i is the interest rate. It should also use the special method *__str__* so that\n",
        "printing the object will result in something like below:\n",
        "Principal - $1000.00, Interest rate - 5.12%"
      ],
      "metadata": {
        "id": "C5mUb9mUgf4r"
      }
    },
    {
      "cell_type": "code",
      "source": [
        "class Investment:\n",
        "    def __init__(self, principal, interest):\n",
        "        \"\"\"\n",
        "        Constructor to initialize the principal and interest rate.\n",
        "        :param principal: The initial amount of the investment (float).\n",
        "        :param interest: The annual interest rate as a percentage (float).\n",
        "        \"\"\"\n",
        "        self.principal = principal\n",
        "        self.interest = interest / 100  # Convert interest percentage to a decimal\n",
        "\n",
        "    def value_after(self, n):\n",
        "        \"\"\"\n",
        "        Calculate the value of the investment after n years.\n",
        "        :param n: Number of years (int).\n",
        "        :return: Value of the investment (float).\n",
        "        \"\"\"\n",
        "        return self.principal * (1 + self.interest) ** n\n",
        "\n",
        "    def __str__(self):\n",
        "        \"\"\"\n",
        "        Special method to return a string representation of the object.\n",
        "        :return: A string with principal and interest rate details.\n",
        "        \"\"\"\n",
        "        return f\"Principal - ${self.principal:.2f}, Interest rate - {self.interest * 100:.2f}%\"\n",
        "\n",
        "# Example usage\n",
        "investment = Investment(1000, 5.12)\n",
        "print(investment)  # Uses the __str__ method\n",
        "print(f\"Value after 10 years: ${investment.value_after(10):.2f}\")\n"
      ],
      "metadata": {
        "colab": {
          "base_uri": "https://localhost:8080/"
        },
        "id": "EXhMmisKgjh6",
        "outputId": "587e6f4d-46ab-4ec6-ca5b-25c9b60cfc97"
      },
      "execution_count": 3,
      "outputs": [
        {
          "output_type": "stream",
          "name": "stdout",
          "text": [
            "Principal - $1000.00, Interest rate - 5.12%\n",
            "Value after 10 years: $1647.61\n"
          ]
        }
      ]
    },
    {
      "cell_type": "markdown",
      "source": [
        "**Question 2**: Write a class called Product. The class should have fields called name, amount, and price,\n",
        "holding the product’s name, the number of items of that product in stock, and the regular\n",
        "price of the product. There should be a method get_price that receives the number of\n",
        "items to be bought and returns a the cost of buying that many items, where the regular price\n",
        "\n",
        "is charged for orders of less than 10 items, a 10% discount is applied for orders of between\n",
        "10 and 99 items, and a 20% discount is applied for orders of 100 or more items. There should\n",
        "also be a method called make_purchase that receives the number of items to be bought and\n",
        "decreases amount by that much."
      ],
      "metadata": {
        "id": "7EgQdIvlgjin"
      }
    },
    {
      "cell_type": "code",
      "source": [
        "class Product:\n",
        "    def __init__(self, name, amount, price):\n",
        "        \"\"\"\n",
        "        Initialize the product with a name, stock amount, and regular price.\n",
        "        :param name: Name of the product (str).\n",
        "        :param amount: Number of items in stock (int).\n",
        "        :param price: Regular price of the product per item (float).\n",
        "        \"\"\"\n",
        "        self.name = name\n",
        "        self.amount = amount\n",
        "        self.price = price\n",
        "\n",
        "    def get_price(self, quantity):\n",
        "        \"\"\"\n",
        "        Calculate the cost of buying the specified quantity with applicable discounts.\n",
        "        :param quantity: Number of items to be bought (int).\n",
        "        :return: Total cost (float).\n",
        "        \"\"\"\n",
        "        if quantity < 10:\n",
        "            discount = 0  # No discount\n",
        "        elif 10 <= quantity <= 99:\n",
        "            discount = 0.10  # 10% discount\n",
        "        else:  # 100 or more items\n",
        "            discount = 0.20  # 20% discount\n",
        "\n",
        "        return quantity * self.price * (1 - discount)\n",
        "\n",
        "    def make_purchase(self, quantity):\n",
        "        \"\"\"\n",
        "        Update the stock by reducing the number of items purchased.\n",
        "        :param quantity: Number of items to be bought (int).\n",
        "        :return: None\n",
        "        \"\"\"\n",
        "        if quantity > self.amount:\n",
        "            raise ValueError(\"Not enough stock available to complete the purchase.\")\n",
        "        self.amount -= quantity\n",
        "\n",
        "    def __str__(self):\n",
        "        \"\"\"\n",
        "        Return a string representation of the product.\n",
        "        :return: A string showing the product name, amount in stock, and price.\n",
        "        \"\"\"\n",
        "        return f\"Product: {self.name}, Stock: {self.amount}, Price: ${self.price:.2f}\"\n",
        "\n",
        "# Example usage\n",
        "product = Product(\"Widget\", 200, 50.0)\n",
        "print(product)  # Print product details\n",
        "\n",
        "# Calculate price for different quantities\n",
        "print(f\"Price for 5 items: ${product.get_price(5):.2f}\")\n",
        "print(f\"Price for 20 items: ${product.get_price(20):.2f}\")\n",
        "print(f\"Price for 150 items: ${product.get_price(150):.2f}\")\n",
        "\n",
        "# Make a purchase\n",
        "product.make_purchase(20)\n",
        "print(f\"After purchase, stock: {product.amount}\")\n"
      ],
      "metadata": {
        "id": "rqWXOUn2gjxi"
      },
      "execution_count": null,
      "outputs": []
    },
    {
      "cell_type": "markdown",
      "source": [
        "Question 3: Write a class called Password_manager. The class should have a list called old_passwords\n",
        "that holds all of the user’s past passwords. The last item of the list is the user’s current pass\u0002word. There should be a method called get_password that returns the current password\n",
        "and a method called set_password that sets the user’s password. The set_password\n",
        "method should only change the password if the attempted password is different from all\n",
        "the user’s past passwords. Finally, create a method called is_correct that receives a string\n",
        "and returns a boolean True or False depending on whether the string is equal to the current\n",
        "password or not."
      ],
      "metadata": {
        "id": "pd252xcImZST"
      }
    },
    {
      "cell_type": "code",
      "source": [
        "class Password_manager:\n",
        "    def __init__(self):\n",
        "        \"\"\"\n",
        "        Initialize the password manager with an empty list of old passwords.\n",
        "        \"\"\"\n",
        "        self.old_passwords = []\n",
        "\n",
        "    def get_password(self):\n",
        "        \"\"\"\n",
        "        Return the current password (the last password in the list).\n",
        "        :return: Current password (str) or None if no password is set.\n",
        "        \"\"\"\n",
        "        if self.old_passwords:\n",
        "            return self.old_passwords[-1]\n",
        "        return None  # No password set yet\n",
        "\n",
        "    def set_password(self, new_password):\n",
        "        \"\"\"\n",
        "        Set the user's password if it is not in the list of old passwords.\n",
        "        :param new_password: The new password to set (str).\n",
        "        :return: True if the password was successfully changed, False otherwise.\n",
        "        \"\"\"\n",
        "        if new_password in self.old_passwords:\n",
        "            return False  # Password already used\n",
        "        self.old_passwords.append(new_password)\n",
        "        return True\n",
        "\n",
        "    def is_correct(self, password):\n",
        "        \"\"\"\n",
        "        Check if the provided password matches the current password.\n",
        "        :param password: Password to check (str).\n",
        "        :return: True if the password matches the current password, False otherwise.\n",
        "        \"\"\"\n",
        "        return password == self.get_password()\n",
        "\n",
        "# Example usage\n",
        "password_manager = Password_manager()\n",
        "\n",
        "# Setting passwords\n",
        "print(password_manager.set_password(\"password123\"))  # True\n",
        "print(password_manager.set_password(\"password123\"))  # False (already used)\n",
        "print(password_manager.set_password(\"securePass456\"))  # True\n",
        "\n",
        "# Getting the current password\n",
        "print(f\"Current password: {password_manager.get_password()}\")  # securePass456\n",
        "\n",
        "# Checking if a password is correct\n",
        "print(password_manager.is_correct(\"password123\"))  # False\n",
        "print(password_manager.is_correct(\"securePass456\"))  # True\n"
      ],
      "metadata": {
        "id": "onX3MOajmXe7"
      },
      "execution_count": null,
      "outputs": []
    },
    {
      "cell_type": "markdown",
      "source": [
        "Question 4: Write a class called Time whose only field is a time in seconds. It should have a method called\n",
        "convert_to_minutes that returns a string of minutes and seconds formatted as in the fol\u0002lowing example: if seconds is 230, the method should return '5:50'. It should also have\n",
        "a method called convert_to_hours that returns a string of hours, minutes, and seconds\n",
        "formatted analogously to the previous method."
      ],
      "metadata": {
        "id": "ql_tFSoSmyAz"
      }
    },
    {
      "cell_type": "code",
      "source": [
        "class Time:\n",
        "    def __init__(self, seconds):\n",
        "        \"\"\"\n",
        "        Initialize the Time object with a time in seconds.\n",
        "        :param seconds: Time in seconds (int).\n",
        "        \"\"\"\n",
        "        self.seconds = seconds\n",
        "\n",
        "    def convert_to_minutes(self):\n",
        "        \"\"\"\n",
        "        Convert the time to a string formatted as minutes:seconds.\n",
        "        :return: A string in the format 'MM:SS'.\n",
        "        \"\"\"\n",
        "        minutes = self.seconds // 60\n",
        "        remaining_seconds = self.seconds % 60\n",
        "        return f\"{minutes}:{remaining_seconds:02d}\"\n",
        "\n",
        "    def convert_to_hours(self):\n",
        "        \"\"\"\n",
        "        Convert the time to a string formatted as hours:minutes:seconds.\n",
        "        :return: A string in the format 'HH:MM:SS'.\n",
        "        \"\"\"\n",
        "        hours = self.seconds // 3600\n",
        "        remaining_seconds = self.seconds % 3600\n",
        "        minutes = remaining_seconds // 60\n",
        "        seconds = remaining_seconds % 60\n",
        "        return f\"{hours}:{minutes:02d}:{seconds:02d}\"\n",
        "\n",
        "# Example usage\n",
        "time = Time(230)\n",
        "print(time.convert_to_minutes())  # Output: '3:50'\n",
        "\n",
        "time = Time(3670)\n",
        "print(time.convert_to_hours())  # Output: '1:01:10'\n"
      ],
      "metadata": {
        "id": "I_roLNPdm5UD"
      },
      "execution_count": null,
      "outputs": []
    },
    {
      "cell_type": "markdown",
      "source": [
        "**Question 5**: Write a class called Wordplay. It should have a field that holds a list of words. The user\n",
        "of the class should pass the list of words they want to use to the class. There should be the\n",
        "following methods:\n",
        "• words_with_length(length) — returns a list of all the words of length length\n",
        "• starts_with(s) — returns a list of all the words that start with s\n",
        "• ends_with(s) — returns a list of all the words that end with s\n",
        "• palindromes() — returns a list of all the palindromes in the list\n",
        "• only(L) — returns a list of the words that contain only those letters in L\n",
        "• avoids(L) — returns a list of the words that contain none of the letters in L"
      ],
      "metadata": {
        "id": "BHe0yR_EnrNM"
      }
    },
    {
      "cell_type": "code",
      "source": [
        "class Wordplay:\n",
        "    def __init__(self, words):\n",
        "        \"\"\"\n",
        "        Initialize the Wordplay object with a list of words.\n",
        "        :param words: A list of words (list of str).\n",
        "        \"\"\"\n",
        "        self.words = words\n",
        "\n",
        "    def words_with_length(self, length):\n",
        "        \"\"\"\n",
        "        Return a list of all words with the specified length.\n",
        "        :param length: Length of the words to find (int).\n",
        "        :return: A list of words with the specified length.\n",
        "        \"\"\"\n",
        "        return [word for word in self.words if len(word) == length]\n",
        "\n",
        "    def starts_with(self, s):\n",
        "        \"\"\"\n",
        "        Return a list of all words that start with the given string.\n",
        "        :param s: The prefix to match (str).\n",
        "        :return: A list of words starting with the given string.\n",
        "        \"\"\"\n",
        "        return [word for word in self.words if word.startswith(s)]\n",
        "\n",
        "    def ends_with(self, s):\n",
        "        \"\"\"\n",
        "        Return a list of all words that end with the given string.\n",
        "        :param s: The suffix to match (str).\n",
        "        :return: A list of words ending with the given string.\n",
        "        \"\"\"\n",
        "        return [word for word in self.words if word.endswith(s)]\n",
        "\n",
        "    def palindromes(self):\n",
        "        \"\"\"\n",
        "        Return a list of all palindromes in the word list.\n",
        "        :return: A list of palindromic words.\n",
        "        \"\"\"\n",
        "        return [word for word in self.words if word == word[::-1]]\n",
        "\n",
        "    def only(self, L):\n",
        "        \"\"\"\n",
        "        Return a list of words that contain only the letters in the given list.\n",
        "        :param L: A list of allowed letters (list of str).\n",
        "        :return: A list of words containing only the letters in L.\n",
        "        \"\"\"\n",
        "        allowed_set = set(L)\n",
        "        return [word for word in self.words if set(word).issubset(allowed_set)]\n",
        "\n",
        "    def avoids(self, L):\n",
        "        \"\"\"\n",
        "        Return a list of words that contain none of the letters in the given list.\n",
        "        :param L: A list of forbidden letters (list of str).\n",
        "        :return: A list of words that avoid the letters in L.\n",
        "        \"\"\"\n",
        "        forbidden_set = set(L)\n",
        "        return [word for word in self.words if set(word).isdisjoint(forbidden_set)]\n",
        "\n",
        "# Example usage\n",
        "word_list = [\"racecar\", \"hello\", \"world\", \"madam\", \"python\", \"level\", \"noon\", \"java\", \"abc\"]\n",
        "\n",
        "wordplay = Wordplay(word_list)\n",
        "\n",
        "print(\"Words with length 5:\", wordplay.words_with_length(5))  # ['hello', 'world']\n",
        "print(\"Words that start with 'wo':\", wordplay.starts_with(\"wo\"))  # ['world']\n",
        "print(\"Words that end with 'on':\", wordplay.ends_with(\"on\"))  # ['python']\n",
        "print(\"Palindromes:\", wordplay.palindromes())  # ['racecar', 'madam', 'level', 'noon']\n",
        "print(\"Words with only ['a', 'b', 'c']:\", wordplay.only(['a', 'b', 'c']))  # ['abc']\n",
        "print(\"Words that avoid ['o', 'e']:\", wordplay.avoids(['o', 'e']))  # ['abc', 'java']\n"
      ],
      "metadata": {
        "id": "rdYvWOq5no1s"
      },
      "execution_count": null,
      "outputs": []
    },
    {
      "cell_type": "code",
      "source": [
        "import nltk\n",
        "from nltk.corpus import words\n",
        "\n",
        "# Download the words corpus if not already downloaded\n",
        "nltk.download(\"words\")\n",
        "\n",
        "# Get the list of words in the English dictionary\n",
        "word_list2 = words.words()\n",
        "wordplay = Wordplay(word_list2)\n",
        "print(\"Words with length 5:\",wordplay.words_with_length(24))\n"
      ],
      "metadata": {
        "id": "1bCaHH3AoSvs"
      },
      "execution_count": null,
      "outputs": []
    }
  ]
}